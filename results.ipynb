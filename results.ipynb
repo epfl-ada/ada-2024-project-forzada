{
 "cells": [
  {
   "cell_type": "markdown",
   "metadata": {},
   "source": [
    "# CDK Binding Affinity"
   ]
  },
  {
   "cell_type": "code",
   "execution_count": 2,
   "metadata": {},
   "outputs": [],
   "source": [
    "import os\n",
    "import pandas as pd\n",
    "import numpy as np\n",
    "import matplotlib.pyplot as plt\n",
    "import warnings\n",
    "import seaborn as sns\n"
   ]
  },
  {
   "cell_type": "markdown",
   "metadata": {},
   "source": [
    "### Columns\n",
    "\n",
    "- `BindingDB Ligand Name`: (Text) name of ligand. \n",
    "\n",
    "- `Target Name`: (Text) Name of the target (indicate deletions (e.g., a truncated sequence) or mutations (e.g., Met results changed for the sake of stability)). For example, [262-930, L692P] means the protein includes residues 262-930 of the full sequence and Leu 692 is replaced by Pro. \n",
    "\n",
    "- `Target Source Organism According to Curator or DataSource`: (Text) Organism associated with the protein target. \n",
    "\n",
    "\n",
    "\n",
    "##### Measure of Binding Affinity:\n",
    "\n",
    "- `Ki (nM)`: (Real>0) Inhibition Constant; concentration of the inhibitor required to reduce the activity of an enzyme by half in the absence of the substrate. The lower the Ki value, the stronger the inhibitor binds to its target.\n",
    "\n",
    "- `IC50 (nM)`: (Real >0) (Values are occasionally reported as “>X”, where X is Real, following the source document) The concentration of the inhibitor that reduces the enzyme activity by 50%. Same as Ki but corrected for experimental condition, making it more accurate and independent of substrate concentration.\n",
    "\n",
    "- `Kd (nM)`: (Real >0) (Values are occasionally reported as “>X”, where X is Real, following the source document.) Dissociation Constant; It represents the concentration of the ligand at which half of the available binding sites on the target are occupied. Lower Kd, higher binding affinity.\n",
    "\n",
    "- `EC50 (nM)`: (Real >0) (Values are occasionally reported as “>X”, where X is Real, following the source document.) Concentration of a drug or ligand required to produce 50% of its maximum effect.\n",
    "\n",
    "- `kon (M-1-s-1)`: (Real >0) Assocition rate constant; Measure of the rate at which a ligand binds to its target, how quickly the ligand and the target come together to form a complex.\n",
    "\n",
    "- `Koff(s-1)`\n",
    "\n",
    "- `pH`\n",
    "\n",
    "- `Temp ( C)`\n",
    "\n",
    "\n",
    "\n",
    "##### Chain of the Binding: \n",
    "\n",
    "- `Number of Protein Chains in Target (>1 implies a multichain complex)`: (1,2 or 3) The following information will be provided, if available, for each chain in the protein. (indicated by .n for the n+1 chain)\n",
    "\n",
    "- `BindingDB Target Chain Sequence`:(text) sequences of AAs. \n",
    "\n",
    "- `UniProt (SwissProt) Entry Name of Target Chain`: (text) name of the target chain.\n",
    "\n",
    "Or: \n",
    "\n",
    "- `UniProt (TrEMBL) Entry Name of Target Chain`: (text) name of the target chain. \n",
    "\n",
    "\n"
   ]
  },
  {
   "cell_type": "code",
   "execution_count": 14,
   "metadata": {},
   "outputs": [
    {
     "data": {
      "text/html": [
       "<div>\n",
       "<style scoped>\n",
       "    .dataframe tbody tr th:only-of-type {\n",
       "        vertical-align: middle;\n",
       "    }\n",
       "\n",
       "    .dataframe tbody tr th {\n",
       "        vertical-align: top;\n",
       "    }\n",
       "\n",
       "    .dataframe thead th {\n",
       "        text-align: right;\n",
       "    }\n",
       "</style>\n",
       "<table border=\"1\" class=\"dataframe\">\n",
       "  <thead>\n",
       "    <tr style=\"text-align: right;\">\n",
       "      <th></th>\n",
       "      <th>Ligand SMILES</th>\n",
       "      <th>BindingDB Ligand Name</th>\n",
       "      <th>Target Name</th>\n",
       "      <th>Target Source Organism According to Curator or DataSource</th>\n",
       "      <th>Ki (nM)</th>\n",
       "      <th>IC50 (nM)</th>\n",
       "      <th>Kd (nM)</th>\n",
       "      <th>EC50 (nM)</th>\n",
       "      <th>kon (M-1-s-1)</th>\n",
       "      <th>koff (s-1)</th>\n",
       "      <th>...</th>\n",
       "      <th>Number of Protein Chains in Target (&gt;1 implies a multichain complex)</th>\n",
       "      <th>BindingDB Target Chain Sequence</th>\n",
       "      <th>UniProt (SwissProt) Entry Name of Target Chain</th>\n",
       "      <th>UniProt (TrEMBL) Entry Name of Target Chain</th>\n",
       "      <th>BindingDB Target Chain Sequence.1</th>\n",
       "      <th>UniProt (SwissProt) Entry Name of Target Chain.1</th>\n",
       "      <th>UniProt (TrEMBL) Entry Name of Target Chain.1</th>\n",
       "      <th>BindingDB Target Chain Sequence.2</th>\n",
       "      <th>UniProt (SwissProt) Entry Name of Target Chain.2</th>\n",
       "      <th>UniProt (TrEMBL) Entry Name of Target Chain.2</th>\n",
       "    </tr>\n",
       "  </thead>\n",
       "  <tbody>\n",
       "    <tr>\n",
       "      <th>0</th>\n",
       "      <td>COc1ccc(Nc2[nH]nc3ncnc(Nc4cccc(Cl)c4)c23)cc1</td>\n",
       "      <td>3-((4-Methoxyphenyl)-amino)-4-((3-chlorophenyl...</td>\n",
       "      <td>Cyclin-dependent kinase/G2/mitotic-specific cy...</td>\n",
       "      <td>Homo sapiens</td>\n",
       "      <td>NaN</td>\n",
       "      <td>5800</td>\n",
       "      <td>NaN</td>\n",
       "      <td>NaN</td>\n",
       "      <td>NaN</td>\n",
       "      <td>NaN</td>\n",
       "      <td>...</td>\n",
       "      <td>2</td>\n",
       "      <td>MEDYTKIEKIGEGTYGVVYKGRHKTTGQVVAMKKIRLESEEEGVPS...</td>\n",
       "      <td>CDK1_HUMAN</td>\n",
       "      <td>NaN</td>\n",
       "      <td>MALRVTRNSKINAENKAKINMAGAKRVPTAPAATSKPGLRPRTALG...</td>\n",
       "      <td>CCNB1_HUMAN</td>\n",
       "      <td>NaN</td>\n",
       "      <td>NaN</td>\n",
       "      <td>NaN</td>\n",
       "      <td>NaN</td>\n",
       "    </tr>\n",
       "    <tr>\n",
       "      <th>1</th>\n",
       "      <td>Oc1ccc(Nc2[nH]nc3ncnc(Nc4cccc(Cl)c4)c23)cc1</td>\n",
       "      <td>3-((4-Hydroxyphenyl)amino)-4-((3-chlorophenyl)...</td>\n",
       "      <td>Cyclin-dependent kinase/G2/mitotic-specific cy...</td>\n",
       "      <td>Homo sapiens</td>\n",
       "      <td>NaN</td>\n",
       "      <td>&gt;1000</td>\n",
       "      <td>NaN</td>\n",
       "      <td>NaN</td>\n",
       "      <td>NaN</td>\n",
       "      <td>NaN</td>\n",
       "      <td>...</td>\n",
       "      <td>2</td>\n",
       "      <td>MEDYTKIEKIGEGTYGVVYKGRHKTTGQVVAMKKIRLESEEEGVPS...</td>\n",
       "      <td>CDK1_HUMAN</td>\n",
       "      <td>NaN</td>\n",
       "      <td>MALRVTRNSKINAENKAKINMAGAKRVPTAPAATSKPGLRPRTALG...</td>\n",
       "      <td>CCNB1_HUMAN</td>\n",
       "      <td>NaN</td>\n",
       "      <td>NaN</td>\n",
       "      <td>NaN</td>\n",
       "      <td>NaN</td>\n",
       "    </tr>\n",
       "    <tr>\n",
       "      <th>2</th>\n",
       "      <td>COc1cccc(Nc2[nH]nc3ncnc(Nc4cccc(Cl)c4)c23)c1</td>\n",
       "      <td>3-((3-Methoxyphenyl)amino)-4-((3-chlorophenyl)...</td>\n",
       "      <td>Cyclin-dependent kinase/G2/mitotic-specific cy...</td>\n",
       "      <td>Homo sapiens</td>\n",
       "      <td>NaN</td>\n",
       "      <td>4300</td>\n",
       "      <td>NaN</td>\n",
       "      <td>NaN</td>\n",
       "      <td>NaN</td>\n",
       "      <td>NaN</td>\n",
       "      <td>...</td>\n",
       "      <td>2</td>\n",
       "      <td>MEDYTKIEKIGEGTYGVVYKGRHKTTGQVVAMKKIRLESEEEGVPS...</td>\n",
       "      <td>CDK1_HUMAN</td>\n",
       "      <td>NaN</td>\n",
       "      <td>MALRVTRNSKINAENKAKINMAGAKRVPTAPAATSKPGLRPRTALG...</td>\n",
       "      <td>CCNB1_HUMAN</td>\n",
       "      <td>NaN</td>\n",
       "      <td>NaN</td>\n",
       "      <td>NaN</td>\n",
       "      <td>NaN</td>\n",
       "    </tr>\n",
       "    <tr>\n",
       "      <th>3</th>\n",
       "      <td>Oc1cccc(Nc2[nH]nc3ncnc(Nc4cccc(Cl)c4)c23)c1</td>\n",
       "      <td>3-((3-Hydroxyphenyl)amino)-4-((3-chlorophenyl)...</td>\n",
       "      <td>Cyclin-dependent kinase/G2/mitotic-specific cy...</td>\n",
       "      <td>Homo sapiens</td>\n",
       "      <td>NaN</td>\n",
       "      <td>3000</td>\n",
       "      <td>NaN</td>\n",
       "      <td>NaN</td>\n",
       "      <td>NaN</td>\n",
       "      <td>NaN</td>\n",
       "      <td>...</td>\n",
       "      <td>2</td>\n",
       "      <td>MEDYTKIEKIGEGTYGVVYKGRHKTTGQVVAMKKIRLESEEEGVPS...</td>\n",
       "      <td>CDK1_HUMAN</td>\n",
       "      <td>NaN</td>\n",
       "      <td>MALRVTRNSKINAENKAKINMAGAKRVPTAPAATSKPGLRPRTALG...</td>\n",
       "      <td>CCNB1_HUMAN</td>\n",
       "      <td>NaN</td>\n",
       "      <td>NaN</td>\n",
       "      <td>NaN</td>\n",
       "      <td>NaN</td>\n",
       "    </tr>\n",
       "    <tr>\n",
       "      <th>4</th>\n",
       "      <td>CC(C)(C)OC(=O)Nc1ccc(Nc2[nH]nc3ncnc(Nc4cccc(Cl...</td>\n",
       "      <td>3-((4-(N-BOC-amino)phenyl)amino)-4-((3-chlorop...</td>\n",
       "      <td>Cyclin-dependent kinase/G2/mitotic-specific cy...</td>\n",
       "      <td>Homo sapiens</td>\n",
       "      <td>NaN</td>\n",
       "      <td>57000</td>\n",
       "      <td>NaN</td>\n",
       "      <td>NaN</td>\n",
       "      <td>NaN</td>\n",
       "      <td>NaN</td>\n",
       "      <td>...</td>\n",
       "      <td>2</td>\n",
       "      <td>MEDYTKIEKIGEGTYGVVYKGRHKTTGQVVAMKKIRLESEEEGVPS...</td>\n",
       "      <td>CDK1_HUMAN</td>\n",
       "      <td>NaN</td>\n",
       "      <td>MALRVTRNSKINAENKAKINMAGAKRVPTAPAATSKPGLRPRTALG...</td>\n",
       "      <td>CCNB1_HUMAN</td>\n",
       "      <td>NaN</td>\n",
       "      <td>NaN</td>\n",
       "      <td>NaN</td>\n",
       "      <td>NaN</td>\n",
       "    </tr>\n",
       "  </tbody>\n",
       "</table>\n",
       "<p>5 rows × 22 columns</p>\n",
       "</div>"
      ],
      "text/plain": [
       "                                       Ligand SMILES  \\\n",
       "0       COc1ccc(Nc2[nH]nc3ncnc(Nc4cccc(Cl)c4)c23)cc1   \n",
       "1        Oc1ccc(Nc2[nH]nc3ncnc(Nc4cccc(Cl)c4)c23)cc1   \n",
       "2       COc1cccc(Nc2[nH]nc3ncnc(Nc4cccc(Cl)c4)c23)c1   \n",
       "3        Oc1cccc(Nc2[nH]nc3ncnc(Nc4cccc(Cl)c4)c23)c1   \n",
       "4  CC(C)(C)OC(=O)Nc1ccc(Nc2[nH]nc3ncnc(Nc4cccc(Cl...   \n",
       "\n",
       "                               BindingDB Ligand Name  \\\n",
       "0  3-((4-Methoxyphenyl)-amino)-4-((3-chlorophenyl...   \n",
       "1  3-((4-Hydroxyphenyl)amino)-4-((3-chlorophenyl)...   \n",
       "2  3-((3-Methoxyphenyl)amino)-4-((3-chlorophenyl)...   \n",
       "3  3-((3-Hydroxyphenyl)amino)-4-((3-chlorophenyl)...   \n",
       "4  3-((4-(N-BOC-amino)phenyl)amino)-4-((3-chlorop...   \n",
       "\n",
       "                                         Target Name  \\\n",
       "0  Cyclin-dependent kinase/G2/mitotic-specific cy...   \n",
       "1  Cyclin-dependent kinase/G2/mitotic-specific cy...   \n",
       "2  Cyclin-dependent kinase/G2/mitotic-specific cy...   \n",
       "3  Cyclin-dependent kinase/G2/mitotic-specific cy...   \n",
       "4  Cyclin-dependent kinase/G2/mitotic-specific cy...   \n",
       "\n",
       "  Target Source Organism According to Curator or DataSource Ki (nM) IC50 (nM)  \\\n",
       "0                                       Homo sapiens            NaN      5800   \n",
       "1                                       Homo sapiens            NaN     >1000   \n",
       "2                                       Homo sapiens            NaN      4300   \n",
       "3                                       Homo sapiens            NaN      3000   \n",
       "4                                       Homo sapiens            NaN     57000   \n",
       "\n",
       "  Kd (nM)  EC50 (nM)  kon (M-1-s-1)  koff (s-1)  ...  \\\n",
       "0     NaN        NaN            NaN         NaN  ...   \n",
       "1     NaN        NaN            NaN         NaN  ...   \n",
       "2     NaN        NaN            NaN         NaN  ...   \n",
       "3     NaN        NaN            NaN         NaN  ...   \n",
       "4     NaN        NaN            NaN         NaN  ...   \n",
       "\n",
       "   Number of Protein Chains in Target (>1 implies a multichain complex)  \\\n",
       "0                                                  2                      \n",
       "1                                                  2                      \n",
       "2                                                  2                      \n",
       "3                                                  2                      \n",
       "4                                                  2                      \n",
       "\n",
       "                     BindingDB Target Chain Sequence  \\\n",
       "0  MEDYTKIEKIGEGTYGVVYKGRHKTTGQVVAMKKIRLESEEEGVPS...   \n",
       "1  MEDYTKIEKIGEGTYGVVYKGRHKTTGQVVAMKKIRLESEEEGVPS...   \n",
       "2  MEDYTKIEKIGEGTYGVVYKGRHKTTGQVVAMKKIRLESEEEGVPS...   \n",
       "3  MEDYTKIEKIGEGTYGVVYKGRHKTTGQVVAMKKIRLESEEEGVPS...   \n",
       "4  MEDYTKIEKIGEGTYGVVYKGRHKTTGQVVAMKKIRLESEEEGVPS...   \n",
       "\n",
       "   UniProt (SwissProt) Entry Name of Target Chain  \\\n",
       "0                                      CDK1_HUMAN   \n",
       "1                                      CDK1_HUMAN   \n",
       "2                                      CDK1_HUMAN   \n",
       "3                                      CDK1_HUMAN   \n",
       "4                                      CDK1_HUMAN   \n",
       "\n",
       "  UniProt (TrEMBL) Entry Name of Target Chain  \\\n",
       "0                                         NaN   \n",
       "1                                         NaN   \n",
       "2                                         NaN   \n",
       "3                                         NaN   \n",
       "4                                         NaN   \n",
       "\n",
       "                   BindingDB Target Chain Sequence.1  \\\n",
       "0  MALRVTRNSKINAENKAKINMAGAKRVPTAPAATSKPGLRPRTALG...   \n",
       "1  MALRVTRNSKINAENKAKINMAGAKRVPTAPAATSKPGLRPRTALG...   \n",
       "2  MALRVTRNSKINAENKAKINMAGAKRVPTAPAATSKPGLRPRTALG...   \n",
       "3  MALRVTRNSKINAENKAKINMAGAKRVPTAPAATSKPGLRPRTALG...   \n",
       "4  MALRVTRNSKINAENKAKINMAGAKRVPTAPAATSKPGLRPRTALG...   \n",
       "\n",
       "  UniProt (SwissProt) Entry Name of Target Chain.1  \\\n",
       "0                                      CCNB1_HUMAN   \n",
       "1                                      CCNB1_HUMAN   \n",
       "2                                      CCNB1_HUMAN   \n",
       "3                                      CCNB1_HUMAN   \n",
       "4                                      CCNB1_HUMAN   \n",
       "\n",
       "  UniProt (TrEMBL) Entry Name of Target Chain.1  \\\n",
       "0                                           NaN   \n",
       "1                                           NaN   \n",
       "2                                           NaN   \n",
       "3                                           NaN   \n",
       "4                                           NaN   \n",
       "\n",
       "  BindingDB Target Chain Sequence.2  \\\n",
       "0                               NaN   \n",
       "1                               NaN   \n",
       "2                               NaN   \n",
       "3                               NaN   \n",
       "4                               NaN   \n",
       "\n",
       "   UniProt (SwissProt) Entry Name of Target Chain.2  \\\n",
       "0                                               NaN   \n",
       "1                                               NaN   \n",
       "2                                               NaN   \n",
       "3                                               NaN   \n",
       "4                                               NaN   \n",
       "\n",
       "  UniProt (TrEMBL) Entry Name of Target Chain.2  \n",
       "0                                           NaN  \n",
       "1                                           NaN  \n",
       "2                                           NaN  \n",
       "3                                           NaN  \n",
       "4                                           NaN  \n",
       "\n",
       "[5 rows x 22 columns]"
      ]
     },
     "execution_count": 14,
     "metadata": {},
     "output_type": "execute_result"
    }
   ],
   "source": [
    "df = pd.read_csv('data/BindingDB_col_cleaned.tsv', sep='\\t') # loading of the cleaned data (CDKs selected and columns necessary for analysis selected)\n",
    "df.head()"
   ]
  },
  {
   "cell_type": "code",
   "execution_count": 27,
   "metadata": {},
   "outputs": [
    {
     "data": {
      "text/plain": [
       "47"
      ]
     },
     "execution_count": 27,
     "metadata": {},
     "output_type": "execute_result"
    }
   ],
   "source": [
    "#The number of different CDKs\n",
    "df['Target Name'].unique().size"
   ]
  },
  {
   "cell_type": "code",
   "execution_count": 28,
   "metadata": {},
   "outputs": [
    {
     "data": {
      "text/plain": [
       "4577"
      ]
     },
     "execution_count": 28,
     "metadata": {},
     "output_type": "execute_result"
    }
   ],
   "source": [
    "#The number of different Ligands\n",
    "df['BindingDB Ligand Name'].unique().size"
   ]
  },
  {
   "cell_type": "code",
   "execution_count": 81,
   "metadata": {},
   "outputs": [
    {
     "name": "stdout",
     "output_type": "stream",
     "text": [
      "Target Name\n",
      "Cyclin-A1/Cyclin-dependent kinase 2                                               354\n",
      "Cyclin-A2 [171-432]/Cyclin-dependent kinase 2                                     840\n",
      "Cyclin-A2 [171-432]/Cyclin-dependent kinase 2 [F82H,L83V,H84D,K98T]                12\n",
      "Cyclin-A2 [171-432]/Cyclin-dependent kinase 2 [F82H,L83V,H84D]                     12\n",
      "Cyclin-A2 [171-432]/Cyclin-dependent kinase 2 [F82H]                                6\n",
      "Cyclin-A2 [171-432]/Cyclin-dependent kinase 2 [K89T]                               12\n",
      "Cyclin-A2 [171-432]/Cyclin-dependent kinase 2 [L83V,H84D]                           6\n",
      "Cyclin-A2 [177-432]/Cyclin-dependent kinase 2                                     132\n",
      "Cyclin-A2/Cyclin-dependent kinase 1                                                18\n",
      "Cyclin-A2/Cyclin-dependent kinase 2                                              5748\n",
      "Cyclin-H/Cyclin-dependent kinase 7                                                174\n",
      "Cyclin-T1/Cyclin-dependent kinase 9                                              2460\n",
      "Cyclin-dependent kinase 1                                                        2928\n",
      "Cyclin-dependent kinase 1/G2/mitotic-specific cyclin-B                           2832\n",
      "Cyclin-dependent kinase 11A                                                        42\n",
      "Cyclin-dependent kinase 11B                                                        54\n",
      "Cyclin-dependent kinase 14                                                         42\n",
      "Cyclin-dependent kinase 16                                                         78\n",
      "Cyclin-dependent kinase 17                                                         48\n",
      "Cyclin-dependent kinase 18 [3-474]                                                 36\n",
      "Cyclin-dependent kinase 19                                                         66\n",
      "Cyclin-dependent kinase 2                                                        5124\n",
      "Cyclin-dependent kinase 2 [A144C]                                                  18\n",
      "Cyclin-dependent kinase 2 [A144G]                                                  12\n",
      "Cyclin-dependent kinase 2 [C118I]                                                  12\n",
      "Cyclin-dependent kinase 2 [C118L,A144C]                                            18\n",
      "Cyclin-dependent kinase 2 [C118L]                                                  18\n",
      "Cyclin-dependent kinase 2 [F80M]                                                   12\n",
      "Cyclin-dependent kinase 2 [F80T]                                                   12\n",
      "Cyclin-dependent kinase 2/G1/S-specific cyclin-E1                                8190\n",
      "Cyclin-dependent kinase 2/G1/S-specific cyclin-E1/Glutathione S-transferase P     246\n",
      "Cyclin-dependent kinase 3                                                          48\n",
      "Cyclin-dependent kinase 3/G1/S-specific cyclin-E1                                   6\n",
      "Cyclin-dependent kinase 4                                                        4296\n",
      "Cyclin-dependent kinase 4/G1/S-specific cyclin-D1                                6360\n",
      "Cyclin-dependent kinase 4/G1/S-specific cyclin-D1 [L188C]                        1356\n",
      "Cyclin-dependent kinase 5                                                         252\n",
      "Cyclin-dependent kinase 5 activator 1                                             528\n",
      "Cyclin-dependent kinase 5 activator 1 [99-307]                                   1608\n",
      "Cyclin-dependent kinase 6                                                        1626\n",
      "Cyclin-dependent kinase 6/G1/S-specific cyclin-D1 [L188C]                           6\n",
      "Cyclin-dependent kinase 6/G1/S-specific cyclin-D3                                  36\n",
      "Cyclin-dependent kinase 7                                                         366\n",
      "Cyclin-dependent kinase 8                                                          48\n",
      "Cyclin-dependent kinase 9                                                        3258\n",
      "Cyclin-dependent kinase-like 2                                                      6\n",
      "Cyclin-dependent kinase/G2/mitotic-specific cyclin- 1                            3132\n",
      "dtype: int64\n"
     ]
    }
   ],
   "source": [
    "# Does Ligand-CDKs pairs are unique ?\n",
    "X = df.groupby('Target Name').size()\n",
    "print(X)\n",
    "\n",
    "#There is repeats. For example, the CDKs 'Cyclin-A2/Cyclin-dependent kinase 2' has 5748 rows (>number of ligands), inducing repeats. \n",
    "# But maybe the constant of affinity measurred is different?\n",
    "\n",
    "## Life Science: The name 'Cyclin-A2/Cyclin-dependent kinase 2' indicates that this kinase \n",
    "#               (CDK2) is typically associated with the cyclin A2 protein"
   ]
  },
  {
   "cell_type": "code",
   "execution_count": 82,
   "metadata": {},
   "outputs": [
    {
     "data": {
      "text/plain": [
       "870"
      ]
     },
     "execution_count": 82,
     "metadata": {},
     "output_type": "execute_result"
    }
   ],
   "source": [
    "# Number of ligands measure for the case of the CDK 'Cyclin-A2/Cyclin-dependent kinase 2'\n",
    "df[df['Target Name']=='Cyclin-A2/Cyclin-dependent kinase 2']['BindingDB Ligand Name'].unique().size"
   ]
  },
  {
   "cell_type": "code",
   "execution_count": 83,
   "metadata": {},
   "outputs": [
    {
     "data": {
      "text/plain": [
       "BindingDB Ligand Name\n",
       "(12Z)-12-({[4-(methanesulfonylmethyl)phenyl]amino}methylidene)-3-thia-5,10-diazatricyclo[7.3.0.0^{2,6}]dodeca-1,4,6,8-tetraen-11-one::8-({4-[(Methylsulfonyl)methyl]anilino}methylene)-6,8-dihydro-7H-[1,3]thiazolo[5,4-e]indol-7-one::Oxindole-Based Inhibitor 107                                             6\n",
       "(12Z)-12-{[(4-methanesulfonylphenyl)amino]methylidene}-3-thia-5,10-diazatricyclo[7.3.0.0^{2,6}]dodeca-1,4,6,8-tetraen-11-one::8-{[4-(Methylsulfonyl)anilino]methylene}-6,8-dihydro-7H-[1,3]thiazolo[5,4-e]indol-7-one::Oxindole-Based Inhibitor 102                                                             6\n",
       "(12Z)-12-{[(4-{[2-(2-hydroxyethoxy)ethyl]sulfamoyl}phenyl)amino]methylidene}-3-thia-5,10-diazatricyclo[7.3.0.0^{2,6}]dodeca-1,4,6,8-tetraen-11-one::N-[2-(2-Hydroxyethoxy)ethyl]-4-{[(7-oxo-6,7-dihydro-8H-[1,3]thiazolo[5,4-e]indol-8-ylidene)methyl]amino}-benzenesulfonamide::Oxindole-Based Inhibitor 87    6\n",
       "(15R,18R)-28-oxa-4,14,19-triazaoctacyclo[12.11.2.1^{15,18}.0^{2,6}.0^{7,27}.0^{8,13}.0^{19,26}.0^{20,25}]octacosa-1,6,8(13),9,11,20(25),21,23,26-nonaene-3,5-dione::SB 218078::SB-218078::SB218078                                                                                                              6\n",
       "(2R)-2-({4-[(3-chlorophenyl)amino]-8-(propan-2-yl)pyrazolo[1,5-a][1,3,5]triazin-2-yl}amino)-3-methylbutan-1-ol::pyrazolo[1,5-a]-1,3,5-triazine, 7c                                                                                                                                                              6\n",
       "                                                                                                                                                                                                                                                                                                               ..\n",
       "pyrimidylpyrrole, 11j                                                                                                                                                                                                                                                                                           6\n",
       "pyrimidylpyrrole, 11k                                                                                                                                                                                                                                                                                           6\n",
       "pyrimidylpyrrole, 9a                                                                                                                                                                                                                                                                                            6\n",
       "pyrimidylpyrrole, 9b                                                                                                                                                                                                                                                                                            6\n",
       "pyrimidylpyrrole, 9d                                                                                                                                                                                                                                                                                            6\n",
       "Length: 870, dtype: int64"
      ]
     },
     "execution_count": 83,
     "metadata": {},
     "output_type": "execute_result"
    }
   ],
   "source": [
    "df[df['Target Name']=='Cyclin-A2/Cyclin-dependent kinase 2'].groupby('BindingDB Ligand Name').size()"
   ]
  },
  {
   "cell_type": "code",
   "execution_count": 84,
   "metadata": {},
   "outputs": [
    {
     "data": {
      "text/html": [
       "<div>\n",
       "<style scoped>\n",
       "    .dataframe tbody tr th:only-of-type {\n",
       "        vertical-align: middle;\n",
       "    }\n",
       "\n",
       "    .dataframe tbody tr th {\n",
       "        vertical-align: top;\n",
       "    }\n",
       "\n",
       "    .dataframe thead th {\n",
       "        text-align: right;\n",
       "    }\n",
       "</style>\n",
       "<table border=\"1\" class=\"dataframe\">\n",
       "  <thead>\n",
       "    <tr style=\"text-align: right;\">\n",
       "      <th></th>\n",
       "      <th>Ligand SMILES</th>\n",
       "      <th>BindingDB Ligand Name</th>\n",
       "      <th>Target Name</th>\n",
       "      <th>Target Source Organism According to Curator or DataSource</th>\n",
       "      <th>Ki (nM)</th>\n",
       "      <th>IC50 (nM)</th>\n",
       "      <th>Kd (nM)</th>\n",
       "      <th>EC50 (nM)</th>\n",
       "      <th>kon (M-1-s-1)</th>\n",
       "      <th>koff (s-1)</th>\n",
       "      <th>...</th>\n",
       "      <th>Number of Protein Chains in Target (&gt;1 implies a multichain complex)</th>\n",
       "      <th>BindingDB Target Chain Sequence</th>\n",
       "      <th>UniProt (SwissProt) Entry Name of Target Chain</th>\n",
       "      <th>UniProt (TrEMBL) Entry Name of Target Chain</th>\n",
       "      <th>BindingDB Target Chain Sequence.1</th>\n",
       "      <th>UniProt (SwissProt) Entry Name of Target Chain.1</th>\n",
       "      <th>UniProt (TrEMBL) Entry Name of Target Chain.1</th>\n",
       "      <th>BindingDB Target Chain Sequence.2</th>\n",
       "      <th>UniProt (SwissProt) Entry Name of Target Chain.2</th>\n",
       "      <th>UniProt (TrEMBL) Entry Name of Target Chain.2</th>\n",
       "    </tr>\n",
       "  </thead>\n",
       "  <tbody>\n",
       "    <tr>\n",
       "      <th>3251</th>\n",
       "      <td>CS(=O)(=O)Cc1ccc(cc1)N=CC1C(=O)Nc2ccc3ncsc3c12</td>\n",
       "      <td>(12Z)-12-({[4-(methanesulfonylmethyl)phenyl]am...</td>\n",
       "      <td>Cyclin-A2/Cyclin-dependent kinase 2</td>\n",
       "      <td>Homo sapiens</td>\n",
       "      <td>NaN</td>\n",
       "      <td>50</td>\n",
       "      <td>NaN</td>\n",
       "      <td>NaN</td>\n",
       "      <td>NaN</td>\n",
       "      <td>NaN</td>\n",
       "      <td>...</td>\n",
       "      <td>2</td>\n",
       "      <td>MENFQKVEKIGEGTYGVVYKARNKLTGEVVALKKIRLDTETEGVPS...</td>\n",
       "      <td>CDK2_HUMAN</td>\n",
       "      <td>NaN</td>\n",
       "      <td>MLGNSAPGPATREAGSALLALQQTALQEDQENINPEKAAPVQQPRT...</td>\n",
       "      <td>CCNA2_HUMAN</td>\n",
       "      <td>NaN</td>\n",
       "      <td>NaN</td>\n",
       "      <td>NaN</td>\n",
       "      <td>NaN</td>\n",
       "    </tr>\n",
       "    <tr>\n",
       "      <th>12000</th>\n",
       "      <td>CS(=O)(=O)Cc1ccc(cc1)N=CC1C(=O)Nc2ccc3ncsc3c12</td>\n",
       "      <td>(12Z)-12-({[4-(methanesulfonylmethyl)phenyl]am...</td>\n",
       "      <td>Cyclin-A2/Cyclin-dependent kinase 2</td>\n",
       "      <td>Homo sapiens</td>\n",
       "      <td>NaN</td>\n",
       "      <td>50</td>\n",
       "      <td>NaN</td>\n",
       "      <td>NaN</td>\n",
       "      <td>NaN</td>\n",
       "      <td>NaN</td>\n",
       "      <td>...</td>\n",
       "      <td>2</td>\n",
       "      <td>MENFQKVEKIGEGTYGVVYKARNKLTGEVVALKKIRLDTETEGVPS...</td>\n",
       "      <td>CDK2_HUMAN</td>\n",
       "      <td>NaN</td>\n",
       "      <td>MLGNSAPGPATREAGSALLALQQTALQEDQENINPEKAAPVQQPRT...</td>\n",
       "      <td>CCNA2_HUMAN</td>\n",
       "      <td>NaN</td>\n",
       "      <td>NaN</td>\n",
       "      <td>NaN</td>\n",
       "      <td>NaN</td>\n",
       "    </tr>\n",
       "    <tr>\n",
       "      <th>20749</th>\n",
       "      <td>CS(=O)(=O)Cc1ccc(cc1)N=CC1C(=O)Nc2ccc3ncsc3c12</td>\n",
       "      <td>(12Z)-12-({[4-(methanesulfonylmethyl)phenyl]am...</td>\n",
       "      <td>Cyclin-A2/Cyclin-dependent kinase 2</td>\n",
       "      <td>Homo sapiens</td>\n",
       "      <td>NaN</td>\n",
       "      <td>50</td>\n",
       "      <td>NaN</td>\n",
       "      <td>NaN</td>\n",
       "      <td>NaN</td>\n",
       "      <td>NaN</td>\n",
       "      <td>...</td>\n",
       "      <td>2</td>\n",
       "      <td>MENFQKVEKIGEGTYGVVYKARNKLTGEVVALKKIRLDTETEGVPS...</td>\n",
       "      <td>CDK2_HUMAN</td>\n",
       "      <td>NaN</td>\n",
       "      <td>MLGNSAPGPATREAGSALLALQQTALQEDQENINPEKAAPVQQPRT...</td>\n",
       "      <td>CCNA2_HUMAN</td>\n",
       "      <td>NaN</td>\n",
       "      <td>NaN</td>\n",
       "      <td>NaN</td>\n",
       "      <td>NaN</td>\n",
       "    </tr>\n",
       "    <tr>\n",
       "      <th>29498</th>\n",
       "      <td>CS(=O)(=O)Cc1ccc(cc1)N=CC1C(=O)Nc2ccc3ncsc3c12</td>\n",
       "      <td>(12Z)-12-({[4-(methanesulfonylmethyl)phenyl]am...</td>\n",
       "      <td>Cyclin-A2/Cyclin-dependent kinase 2</td>\n",
       "      <td>Homo sapiens</td>\n",
       "      <td>NaN</td>\n",
       "      <td>50</td>\n",
       "      <td>NaN</td>\n",
       "      <td>NaN</td>\n",
       "      <td>NaN</td>\n",
       "      <td>NaN</td>\n",
       "      <td>...</td>\n",
       "      <td>2</td>\n",
       "      <td>MENFQKVEKIGEGTYGVVYKARNKLTGEVVALKKIRLDTETEGVPS...</td>\n",
       "      <td>CDK2_HUMAN</td>\n",
       "      <td>NaN</td>\n",
       "      <td>MLGNSAPGPATREAGSALLALQQTALQEDQENINPEKAAPVQQPRT...</td>\n",
       "      <td>CCNA2_HUMAN</td>\n",
       "      <td>NaN</td>\n",
       "      <td>NaN</td>\n",
       "      <td>NaN</td>\n",
       "      <td>NaN</td>\n",
       "    </tr>\n",
       "    <tr>\n",
       "      <th>38247</th>\n",
       "      <td>CS(=O)(=O)Cc1ccc(cc1)N=CC1C(=O)Nc2ccc3ncsc3c12</td>\n",
       "      <td>(12Z)-12-({[4-(methanesulfonylmethyl)phenyl]am...</td>\n",
       "      <td>Cyclin-A2/Cyclin-dependent kinase 2</td>\n",
       "      <td>Homo sapiens</td>\n",
       "      <td>NaN</td>\n",
       "      <td>50</td>\n",
       "      <td>NaN</td>\n",
       "      <td>NaN</td>\n",
       "      <td>NaN</td>\n",
       "      <td>NaN</td>\n",
       "      <td>...</td>\n",
       "      <td>2</td>\n",
       "      <td>MENFQKVEKIGEGTYGVVYKARNKLTGEVVALKKIRLDTETEGVPS...</td>\n",
       "      <td>CDK2_HUMAN</td>\n",
       "      <td>NaN</td>\n",
       "      <td>MLGNSAPGPATREAGSALLALQQTALQEDQENINPEKAAPVQQPRT...</td>\n",
       "      <td>CCNA2_HUMAN</td>\n",
       "      <td>NaN</td>\n",
       "      <td>NaN</td>\n",
       "      <td>NaN</td>\n",
       "      <td>NaN</td>\n",
       "    </tr>\n",
       "    <tr>\n",
       "      <th>46996</th>\n",
       "      <td>CS(=O)(=O)Cc1ccc(cc1)N=CC1C(=O)Nc2ccc3ncsc3c12</td>\n",
       "      <td>(12Z)-12-({[4-(methanesulfonylmethyl)phenyl]am...</td>\n",
       "      <td>Cyclin-A2/Cyclin-dependent kinase 2</td>\n",
       "      <td>Homo sapiens</td>\n",
       "      <td>NaN</td>\n",
       "      <td>50</td>\n",
       "      <td>NaN</td>\n",
       "      <td>NaN</td>\n",
       "      <td>NaN</td>\n",
       "      <td>NaN</td>\n",
       "      <td>...</td>\n",
       "      <td>2</td>\n",
       "      <td>MENFQKVEKIGEGTYGVVYKARNKLTGEVVALKKIRLDTETEGVPS...</td>\n",
       "      <td>CDK2_HUMAN</td>\n",
       "      <td>NaN</td>\n",
       "      <td>MLGNSAPGPATREAGSALLALQQTALQEDQENINPEKAAPVQQPRT...</td>\n",
       "      <td>CCNA2_HUMAN</td>\n",
       "      <td>NaN</td>\n",
       "      <td>NaN</td>\n",
       "      <td>NaN</td>\n",
       "      <td>NaN</td>\n",
       "    </tr>\n",
       "  </tbody>\n",
       "</table>\n",
       "<p>6 rows × 22 columns</p>\n",
       "</div>"
      ],
      "text/plain": [
       "                                        Ligand SMILES  \\\n",
       "3251   CS(=O)(=O)Cc1ccc(cc1)N=CC1C(=O)Nc2ccc3ncsc3c12   \n",
       "12000  CS(=O)(=O)Cc1ccc(cc1)N=CC1C(=O)Nc2ccc3ncsc3c12   \n",
       "20749  CS(=O)(=O)Cc1ccc(cc1)N=CC1C(=O)Nc2ccc3ncsc3c12   \n",
       "29498  CS(=O)(=O)Cc1ccc(cc1)N=CC1C(=O)Nc2ccc3ncsc3c12   \n",
       "38247  CS(=O)(=O)Cc1ccc(cc1)N=CC1C(=O)Nc2ccc3ncsc3c12   \n",
       "46996  CS(=O)(=O)Cc1ccc(cc1)N=CC1C(=O)Nc2ccc3ncsc3c12   \n",
       "\n",
       "                                   BindingDB Ligand Name  \\\n",
       "3251   (12Z)-12-({[4-(methanesulfonylmethyl)phenyl]am...   \n",
       "12000  (12Z)-12-({[4-(methanesulfonylmethyl)phenyl]am...   \n",
       "20749  (12Z)-12-({[4-(methanesulfonylmethyl)phenyl]am...   \n",
       "29498  (12Z)-12-({[4-(methanesulfonylmethyl)phenyl]am...   \n",
       "38247  (12Z)-12-({[4-(methanesulfonylmethyl)phenyl]am...   \n",
       "46996  (12Z)-12-({[4-(methanesulfonylmethyl)phenyl]am...   \n",
       "\n",
       "                               Target Name  \\\n",
       "3251   Cyclin-A2/Cyclin-dependent kinase 2   \n",
       "12000  Cyclin-A2/Cyclin-dependent kinase 2   \n",
       "20749  Cyclin-A2/Cyclin-dependent kinase 2   \n",
       "29498  Cyclin-A2/Cyclin-dependent kinase 2   \n",
       "38247  Cyclin-A2/Cyclin-dependent kinase 2   \n",
       "46996  Cyclin-A2/Cyclin-dependent kinase 2   \n",
       "\n",
       "      Target Source Organism According to Curator or DataSource Ki (nM)  \\\n",
       "3251                                        Homo sapiens            NaN   \n",
       "12000                                       Homo sapiens            NaN   \n",
       "20749                                       Homo sapiens            NaN   \n",
       "29498                                       Homo sapiens            NaN   \n",
       "38247                                       Homo sapiens            NaN   \n",
       "46996                                       Homo sapiens            NaN   \n",
       "\n",
       "      IC50 (nM) Kd (nM)  EC50 (nM)  kon (M-1-s-1)  koff (s-1)  ...  \\\n",
       "3251         50     NaN        NaN            NaN         NaN  ...   \n",
       "12000        50     NaN        NaN            NaN         NaN  ...   \n",
       "20749        50     NaN        NaN            NaN         NaN  ...   \n",
       "29498        50     NaN        NaN            NaN         NaN  ...   \n",
       "38247        50     NaN        NaN            NaN         NaN  ...   \n",
       "46996        50     NaN        NaN            NaN         NaN  ...   \n",
       "\n",
       "       Number of Protein Chains in Target (>1 implies a multichain complex)  \\\n",
       "3251                                                   2                      \n",
       "12000                                                  2                      \n",
       "20749                                                  2                      \n",
       "29498                                                  2                      \n",
       "38247                                                  2                      \n",
       "46996                                                  2                      \n",
       "\n",
       "                         BindingDB Target Chain Sequence  \\\n",
       "3251   MENFQKVEKIGEGTYGVVYKARNKLTGEVVALKKIRLDTETEGVPS...   \n",
       "12000  MENFQKVEKIGEGTYGVVYKARNKLTGEVVALKKIRLDTETEGVPS...   \n",
       "20749  MENFQKVEKIGEGTYGVVYKARNKLTGEVVALKKIRLDTETEGVPS...   \n",
       "29498  MENFQKVEKIGEGTYGVVYKARNKLTGEVVALKKIRLDTETEGVPS...   \n",
       "38247  MENFQKVEKIGEGTYGVVYKARNKLTGEVVALKKIRLDTETEGVPS...   \n",
       "46996  MENFQKVEKIGEGTYGVVYKARNKLTGEVVALKKIRLDTETEGVPS...   \n",
       "\n",
       "       UniProt (SwissProt) Entry Name of Target Chain  \\\n",
       "3251                                       CDK2_HUMAN   \n",
       "12000                                      CDK2_HUMAN   \n",
       "20749                                      CDK2_HUMAN   \n",
       "29498                                      CDK2_HUMAN   \n",
       "38247                                      CDK2_HUMAN   \n",
       "46996                                      CDK2_HUMAN   \n",
       "\n",
       "      UniProt (TrEMBL) Entry Name of Target Chain  \\\n",
       "3251                                          NaN   \n",
       "12000                                         NaN   \n",
       "20749                                         NaN   \n",
       "29498                                         NaN   \n",
       "38247                                         NaN   \n",
       "46996                                         NaN   \n",
       "\n",
       "                       BindingDB Target Chain Sequence.1  \\\n",
       "3251   MLGNSAPGPATREAGSALLALQQTALQEDQENINPEKAAPVQQPRT...   \n",
       "12000  MLGNSAPGPATREAGSALLALQQTALQEDQENINPEKAAPVQQPRT...   \n",
       "20749  MLGNSAPGPATREAGSALLALQQTALQEDQENINPEKAAPVQQPRT...   \n",
       "29498  MLGNSAPGPATREAGSALLALQQTALQEDQENINPEKAAPVQQPRT...   \n",
       "38247  MLGNSAPGPATREAGSALLALQQTALQEDQENINPEKAAPVQQPRT...   \n",
       "46996  MLGNSAPGPATREAGSALLALQQTALQEDQENINPEKAAPVQQPRT...   \n",
       "\n",
       "      UniProt (SwissProt) Entry Name of Target Chain.1  \\\n",
       "3251                                       CCNA2_HUMAN   \n",
       "12000                                      CCNA2_HUMAN   \n",
       "20749                                      CCNA2_HUMAN   \n",
       "29498                                      CCNA2_HUMAN   \n",
       "38247                                      CCNA2_HUMAN   \n",
       "46996                                      CCNA2_HUMAN   \n",
       "\n",
       "      UniProt (TrEMBL) Entry Name of Target Chain.1  \\\n",
       "3251                                            NaN   \n",
       "12000                                           NaN   \n",
       "20749                                           NaN   \n",
       "29498                                           NaN   \n",
       "38247                                           NaN   \n",
       "46996                                           NaN   \n",
       "\n",
       "      BindingDB Target Chain Sequence.2  \\\n",
       "3251                                NaN   \n",
       "12000                               NaN   \n",
       "20749                               NaN   \n",
       "29498                               NaN   \n",
       "38247                               NaN   \n",
       "46996                               NaN   \n",
       "\n",
       "       UniProt (SwissProt) Entry Name of Target Chain.2  \\\n",
       "3251                                                NaN   \n",
       "12000                                               NaN   \n",
       "20749                                               NaN   \n",
       "29498                                               NaN   \n",
       "38247                                               NaN   \n",
       "46996                                               NaN   \n",
       "\n",
       "      UniProt (TrEMBL) Entry Name of Target Chain.2  \n",
       "3251                                            NaN  \n",
       "12000                                           NaN  \n",
       "20749                                           NaN  \n",
       "29498                                           NaN  \n",
       "38247                                           NaN  \n",
       "46996                                           NaN  \n",
       "\n",
       "[6 rows x 22 columns]"
      ]
     },
     "execution_count": 84,
     "metadata": {},
     "output_type": "execute_result"
    }
   ],
   "source": [
    "# Do we have different measurments? \n",
    "Target ='Cyclin-A2/Cyclin-dependent kinase 2'\n",
    "# I took the first ligand of the previous result, beacause there is 6 different rows\n",
    "Ligand= '(12Z)-12-({[4-(methanesulfonylmethyl)phenyl]amino}methylidene)-3-thia-5,10-diazatricyclo[7.3.0.0^{2,6}]dodeca-1,4,6,8-tetraen-11-one::8-({4-[(Methylsulfonyl)methyl]anilino}methylene)-6,8-dihydro-7H-[1,3]thiazolo[5,4-e]indol-7-one::Oxindole-Based Inhibitor 107'\n",
    "TargetLigand=df[(df['BindingDB Ligand Name']== Ligand) & (df['Target Name']==Target)]\n",
    "TargetLigand\n"
   ]
  },
  {
   "cell_type": "code",
   "execution_count": 86,
   "metadata": {},
   "outputs": [
    {
     "data": {
      "text/html": [
       "<div>\n",
       "<style scoped>\n",
       "    .dataframe tbody tr th:only-of-type {\n",
       "        vertical-align: middle;\n",
       "    }\n",
       "\n",
       "    .dataframe tbody tr th {\n",
       "        vertical-align: top;\n",
       "    }\n",
       "\n",
       "    .dataframe thead th {\n",
       "        text-align: right;\n",
       "    }\n",
       "</style>\n",
       "<table border=\"1\" class=\"dataframe\">\n",
       "  <thead>\n",
       "    <tr style=\"text-align: right;\">\n",
       "      <th></th>\n",
       "      <th>Ligand SMILES</th>\n",
       "      <th>BindingDB Ligand Name</th>\n",
       "      <th>Target Name</th>\n",
       "      <th>Target Source Organism According to Curator or DataSource</th>\n",
       "      <th>Ki (nM)</th>\n",
       "      <th>IC50 (nM)</th>\n",
       "      <th>Kd (nM)</th>\n",
       "      <th>EC50 (nM)</th>\n",
       "      <th>kon (M-1-s-1)</th>\n",
       "      <th>koff (s-1)</th>\n",
       "      <th>...</th>\n",
       "      <th>Number of Protein Chains in Target (&gt;1 implies a multichain complex)</th>\n",
       "      <th>BindingDB Target Chain Sequence</th>\n",
       "      <th>UniProt (SwissProt) Entry Name of Target Chain</th>\n",
       "      <th>UniProt (TrEMBL) Entry Name of Target Chain</th>\n",
       "      <th>BindingDB Target Chain Sequence.1</th>\n",
       "      <th>UniProt (SwissProt) Entry Name of Target Chain.1</th>\n",
       "      <th>UniProt (TrEMBL) Entry Name of Target Chain.1</th>\n",
       "      <th>BindingDB Target Chain Sequence.2</th>\n",
       "      <th>UniProt (SwissProt) Entry Name of Target Chain.2</th>\n",
       "      <th>UniProt (TrEMBL) Entry Name of Target Chain.2</th>\n",
       "    </tr>\n",
       "  </thead>\n",
       "  <tbody>\n",
       "    <tr>\n",
       "      <th>3251</th>\n",
       "      <td>CS(=O)(=O)Cc1ccc(cc1)N=CC1C(=O)Nc2ccc3ncsc3c12</td>\n",
       "      <td>(12Z)-12-({[4-(methanesulfonylmethyl)phenyl]am...</td>\n",
       "      <td>Cyclin-A2/Cyclin-dependent kinase 2</td>\n",
       "      <td>Homo sapiens</td>\n",
       "      <td>NaN</td>\n",
       "      <td>50</td>\n",
       "      <td>NaN</td>\n",
       "      <td>NaN</td>\n",
       "      <td>NaN</td>\n",
       "      <td>NaN</td>\n",
       "      <td>...</td>\n",
       "      <td>2</td>\n",
       "      <td>MENFQKVEKIGEGTYGVVYKARNKLTGEVVALKKIRLDTETEGVPS...</td>\n",
       "      <td>CDK2_HUMAN</td>\n",
       "      <td>NaN</td>\n",
       "      <td>MLGNSAPGPATREAGSALLALQQTALQEDQENINPEKAAPVQQPRT...</td>\n",
       "      <td>CCNA2_HUMAN</td>\n",
       "      <td>NaN</td>\n",
       "      <td>NaN</td>\n",
       "      <td>NaN</td>\n",
       "      <td>NaN</td>\n",
       "    </tr>\n",
       "  </tbody>\n",
       "</table>\n",
       "<p>1 rows × 22 columns</p>\n",
       "</div>"
      ],
      "text/plain": [
       "                                       Ligand SMILES  \\\n",
       "3251  CS(=O)(=O)Cc1ccc(cc1)N=CC1C(=O)Nc2ccc3ncsc3c12   \n",
       "\n",
       "                                  BindingDB Ligand Name  \\\n",
       "3251  (12Z)-12-({[4-(methanesulfonylmethyl)phenyl]am...   \n",
       "\n",
       "                              Target Name  \\\n",
       "3251  Cyclin-A2/Cyclin-dependent kinase 2   \n",
       "\n",
       "     Target Source Organism According to Curator or DataSource Ki (nM)  \\\n",
       "3251                                       Homo sapiens            NaN   \n",
       "\n",
       "     IC50 (nM) Kd (nM)  EC50 (nM)  kon (M-1-s-1)  koff (s-1)  ...  \\\n",
       "3251        50     NaN        NaN            NaN         NaN  ...   \n",
       "\n",
       "      Number of Protein Chains in Target (>1 implies a multichain complex)  \\\n",
       "3251                                                  2                      \n",
       "\n",
       "                        BindingDB Target Chain Sequence  \\\n",
       "3251  MENFQKVEKIGEGTYGVVYKARNKLTGEVVALKKIRLDTETEGVPS...   \n",
       "\n",
       "      UniProt (SwissProt) Entry Name of Target Chain  \\\n",
       "3251                                      CDK2_HUMAN   \n",
       "\n",
       "     UniProt (TrEMBL) Entry Name of Target Chain  \\\n",
       "3251                                         NaN   \n",
       "\n",
       "                      BindingDB Target Chain Sequence.1  \\\n",
       "3251  MLGNSAPGPATREAGSALLALQQTALQEDQENINPEKAAPVQQPRT...   \n",
       "\n",
       "     UniProt (SwissProt) Entry Name of Target Chain.1  \\\n",
       "3251                                      CCNA2_HUMAN   \n",
       "\n",
       "     UniProt (TrEMBL) Entry Name of Target Chain.1  \\\n",
       "3251                                           NaN   \n",
       "\n",
       "     BindingDB Target Chain Sequence.2  \\\n",
       "3251                               NaN   \n",
       "\n",
       "      UniProt (SwissProt) Entry Name of Target Chain.2  \\\n",
       "3251                                               NaN   \n",
       "\n",
       "     UniProt (TrEMBL) Entry Name of Target Chain.2  \n",
       "3251                                           NaN  \n",
       "\n",
       "[1 rows x 22 columns]"
      ]
     },
     "execution_count": 86,
     "metadata": {},
     "output_type": "execute_result"
    }
   ],
   "source": [
    "unique_rows = TargetLigand.drop_duplicates()\n",
    "unique_rows\n",
    "\n",
    "# IT IS ONLY DUPLICATES OF ROWS.\n"
   ]
  },
  {
   "cell_type": "code",
   "execution_count": 87,
   "metadata": {},
   "outputs": [
    {
     "data": {
      "text/plain": [
       "(8227, 22)"
      ]
     },
     "execution_count": 87,
     "metadata": {},
     "output_type": "execute_result"
    }
   ],
   "source": [
    "#Cleaning of df by supressing duplicate rows.\n",
    "df_cleaned = df.drop_duplicates()\n",
    "df_cleaned.shape\n",
    "\n",
    "# There may be different features in BindingDB, but we skipped columns such as 'authors of the experiment'. \n",
    "# Many authors and experiments may have been conducted with the same ligand-CDK pair."
   ]
  },
  {
   "cell_type": "code",
   "execution_count": 98,
   "metadata": {},
   "outputs": [
    {
     "name": "stdout",
     "output_type": "stream",
     "text": [
      "Target Name\n",
      "Cyclin-A1/Cyclin-dependent kinase 2                                                59\n",
      "Cyclin-A2 [171-432]/Cyclin-dependent kinase 2                                     138\n",
      "Cyclin-A2 [171-432]/Cyclin-dependent kinase 2 [F82H,L83V,H84D,K98T]                 2\n",
      "Cyclin-A2 [171-432]/Cyclin-dependent kinase 2 [F82H,L83V,H84D]                      2\n",
      "Cyclin-A2 [171-432]/Cyclin-dependent kinase 2 [F82H]                                1\n",
      "Cyclin-A2 [171-432]/Cyclin-dependent kinase 2 [K89T]                                2\n",
      "Cyclin-A2 [171-432]/Cyclin-dependent kinase 2 [L83V,H84D]                           1\n",
      "Cyclin-A2 [177-432]/Cyclin-dependent kinase 2                                      22\n",
      "Cyclin-A2/Cyclin-dependent kinase 1                                                 3\n",
      "Cyclin-A2/Cyclin-dependent kinase 2                                               893\n",
      "Cyclin-H/Cyclin-dependent kinase 7                                                 29\n",
      "Cyclin-T1/Cyclin-dependent kinase 9                                               405\n",
      "Cyclin-dependent kinase 1                                                         481\n",
      "Cyclin-dependent kinase 1/G2/mitotic-specific cyclin-B                            464\n",
      "Cyclin-dependent kinase 11A                                                         7\n",
      "Cyclin-dependent kinase 11B                                                         9\n",
      "Cyclin-dependent kinase 14                                                          7\n",
      "Cyclin-dependent kinase 16                                                         13\n",
      "Cyclin-dependent kinase 17                                                          8\n",
      "Cyclin-dependent kinase 18 [3-474]                                                  6\n",
      "Cyclin-dependent kinase 19                                                         11\n",
      "Cyclin-dependent kinase 2                                                         761\n",
      "Cyclin-dependent kinase 2 [A144C]                                                   3\n",
      "Cyclin-dependent kinase 2 [A144G]                                                   2\n",
      "Cyclin-dependent kinase 2 [C118I]                                                   2\n",
      "Cyclin-dependent kinase 2 [C118L,A144C]                                             3\n",
      "Cyclin-dependent kinase 2 [C118L]                                                   3\n",
      "Cyclin-dependent kinase 2 [F80M]                                                    2\n",
      "Cyclin-dependent kinase 2 [F80T]                                                    2\n",
      "Cyclin-dependent kinase 2/G1/S-specific cyclin-E1                                1206\n",
      "Cyclin-dependent kinase 2/G1/S-specific cyclin-E1/Glutathione S-transferase P      41\n",
      "Cyclin-dependent kinase 3                                                           8\n",
      "Cyclin-dependent kinase 3/G1/S-specific cyclin-E1                                   1\n",
      "Cyclin-dependent kinase 4                                                         714\n",
      "Cyclin-dependent kinase 4/G1/S-specific cyclin-D1                                 901\n",
      "Cyclin-dependent kinase 4/G1/S-specific cyclin-D1 [L188C]                         223\n",
      "Cyclin-dependent kinase 5                                                          42\n",
      "Cyclin-dependent kinase 5 activator 1                                              88\n",
      "Cyclin-dependent kinase 5 activator 1 [99-307]                                    268\n",
      "Cyclin-dependent kinase 6                                                         271\n",
      "Cyclin-dependent kinase 6/G1/S-specific cyclin-D1 [L188C]                           1\n",
      "Cyclin-dependent kinase 6/G1/S-specific cyclin-D3                                   6\n",
      "Cyclin-dependent kinase 7                                                          61\n",
      "Cyclin-dependent kinase 8                                                           8\n",
      "Cyclin-dependent kinase 9                                                         526\n",
      "Cyclin-dependent kinase-like 2                                                      1\n",
      "Cyclin-dependent kinase/G2/mitotic-specific cyclin- 1                             520\n",
      "dtype: int64\n"
     ]
    }
   ],
   "source": [
    "Y = df_cleaned.groupby('Target Name').size()\n",
    "print(Y)\n",
    "\n",
    "# Differences between 'Cyclin-A2 [171-432]/Cyclin-dependent kinase 2 [K89T]' and \n",
    "# 'Cyclin-A2 [171-432]/Cyclin-dependent kinase 2 [L83V,H84D]' ?\n",
    "## YES: it is the same CDK ('Cyclin-A2 [171-432]/Cyclin-dependent kinase 2') but with mutations. \n",
    "## For the first: The Amino Acid 'K', is replace by a 'T' at the 89th Amino acid of the sequence"
   ]
  },
  {
   "cell_type": "markdown",
   "metadata": {},
   "source": [
    "### Formating values of Binding Affinity constant \n",
    "\n",
    "The values for Ki, Kd, IC50... can take forms like >100 or 2e+5 that need to be transformed to be analysed"
   ]
  },
  {
   "cell_type": "code",
   "execution_count": 99,
   "metadata": {},
   "outputs": [],
   "source": [
    "# Fonction 'clean' to remove the characters > and <, remove the spaces and convert the strings into integers\n",
    "def clean(ki, patern=['<', '>']):\n",
    "    ki = str(ki).replace(patern[0], '')\n",
    "    ki = str(ki).replace(patern[1], '')\n",
    "    ki = ki.strip()       \n",
    "    try:\n",
    "        ki = int(ki)\n",
    "    except ValueError:  \n",
    "        ki = None\n",
    "    return (ki)"
   ]
  },
  {
   "cell_type": "markdown",
   "metadata": {},
   "source": [
    "### Binding Affinity constant ditribution \n",
    "- Ki (nM):"
   ]
  },
  {
   "cell_type": "code",
   "execution_count": 100,
   "metadata": {},
   "outputs": [],
   "source": [
    "Ki_cleaned = df_cleaned['Ki (nM)'].apply(lambda ki: clean(ki)) # cleaning of the Ki values\n",
    "Ki_cleaned = Ki_cleaned.dropna(axis=0) # deleting all the NaN values"
   ]
  },
  {
   "cell_type": "code",
   "execution_count": 101,
   "metadata": {},
   "outputs": [
    {
     "data": {
      "text/plain": [
       "count      260.000000\n",
       "mean      2778.834615\n",
       "std       5649.197769\n",
       "min          1.000000\n",
       "25%         69.750000\n",
       "50%        300.000000\n",
       "75%       1357.500000\n",
       "max      20000.000000\n",
       "Name: Ki (nM), dtype: float64"
      ]
     },
     "execution_count": 101,
     "metadata": {},
     "output_type": "execute_result"
    }
   ],
   "source": [
    "Ki_cleaned.describe()"
   ]
  },
  {
   "cell_type": "markdown",
   "metadata": {},
   "source": [
    "Discuss: 50% of the values are <300. A Ki<300 represents a strong or moderate affinity. There is outliers (Ki equal to 20000) that represents no binding affinity. "
   ]
  },
  {
   "cell_type": "code",
   "execution_count": 102,
   "metadata": {},
   "outputs": [
    {
     "data": {
      "image/png": "[encoded data removed]",
      "text/plain": [
       "<Figure size 640x480 with 1 Axes>"
      ]
     },
     "metadata": {},
     "output_type": "display_data"
    }
   ],
   "source": [
    "plt.title('Distribution of the Ki values for CDKs proteins')\n",
    "plt.xlabel('Ki (nM)')\n",
    "plt.ylabel('Number of CDK proteins')\n",
    "Ki_cleaned.hist(bins=50)\n",
    "plt.show()"
   ]
  },
  {
   "cell_type": "markdown",
   "metadata": {},
   "source": [
    "- IC50 (nM):"
   ]
  },
  {
   "cell_type": "code",
   "execution_count": 103,
   "metadata": {},
   "outputs": [],
   "source": [
    "# 45'822 rows have IC50 value, 6822 of them contain < and 13476 contain >\n",
    "# we should do samples to put the values into ranges => not done yet because maybe not useful... instead the same technique as above is performed\n",
    "\n",
    "IC50_cleaned = df_cleaned['IC50 (nM)'].apply(lambda ic: clean(ic))\n",
    "IC50_cleaned[IC50_cleaned > 20000] = np.nan # some very high values make the distribution not readable and relevant so we decided to remove them\n",
    "IC50_cleaned = IC50_cleaned.dropna(axis=0)\n"
   ]
  },
  {
   "cell_type": "code",
   "execution_count": 104,
   "metadata": {},
   "outputs": [
    {
     "data": {
      "text/plain": [
       "count     5956.000000\n",
       "mean      2849.751175\n",
       "std       5285.661834\n",
       "min          1.000000\n",
       "25%         35.000000\n",
       "50%        240.000000\n",
       "75%       2300.000000\n",
       "max      20000.000000\n",
       "Name: IC50 (nM), dtype: float64"
      ]
     },
     "execution_count": 104,
     "metadata": {},
     "output_type": "execute_result"
    }
   ],
   "source": [
    "IC50_cleaned.describe()"
   ]
  },
  {
   "cell_type": "markdown",
   "metadata": {},
   "source": [
    "discuss: same idea, almost the same value of the 50th percentile."
   ]
  },
  {
   "cell_type": "code",
   "execution_count": 105,
   "metadata": {},
   "outputs": [
    {
     "data": {
      "image/png": "[encoded data removed]",
      "text/plain": [
       "<Figure size 640x480 with 1 Axes>"
      ]
     },
     "metadata": {},
     "output_type": "display_data"
    }
   ],
   "source": [
    "plt.title('Distribution of the IC50 values for CDKs proteins')\n",
    "plt.xlabel('IC50 (nM)')\n",
    "plt.ylabel('Number of CDK proteins')\n",
    "IC50_cleaned.hist(bins=50)\n",
    "plt.show()"
   ]
  },
  {
   "cell_type": "markdown",
   "metadata": {},
   "source": [
    "- Kd (nM):"
   ]
  },
  {
   "cell_type": "code",
   "execution_count": 106,
   "metadata": {},
   "outputs": [],
   "source": [
    "# 3552 rows have Kd value and 2058 Kd are equal to >100000 \n",
    "Kd_cleaned = df_cleaned['Kd (nM)'].apply(lambda kd: clean(kd))\n",
    "Kd_cleaned = Kd_cleaned.dropna(axis=0)"
   ]
  },
  {
   "cell_type": "code",
   "execution_count": 107,
   "metadata": {},
   "outputs": [
    {
     "data": {
      "text/plain": [
       "count       423.000000\n",
       "mean      61653.198582\n",
       "std       47635.468367\n",
       "min           8.000000\n",
       "25%         982.500000\n",
       "50%      100000.000000\n",
       "75%      100000.000000\n",
       "max      100000.000000\n",
       "Name: Kd (nM), dtype: float64"
      ]
     },
     "execution_count": 107,
     "metadata": {},
     "output_type": "execute_result"
    }
   ],
   "source": [
    "Kd_cleaned.describe()"
   ]
  },
  {
   "cell_type": "markdown",
   "metadata": {},
   "source": [
    "Discuss: More than 50% of the values is equal to 100000 (very weak binding affinity)."
   ]
  },
  {
   "cell_type": "code",
   "execution_count": 108,
   "metadata": {},
   "outputs": [
    {
     "data": {
      "image/png": "[encoded data removed]",
      "text/plain": [
       "<Figure size 640x480 with 1 Axes>"
      ]
     },
     "metadata": {},
     "output_type": "display_data"
    }
   ],
   "source": [
    "plt.title('Distribution of the Kd values for CDKs proteins')\n",
    "plt.xlabel('Kd (nM)')\n",
    "plt.ylabel('Number of CDK proteins')\n",
    "Kd_cleaned.hist(bins=200)\n",
    "plt.show()"
   ]
  },
  {
   "cell_type": "markdown",
   "metadata": {},
   "source": [
    "- EC50 (nM):"
   ]
  },
  {
   "cell_type": "code",
   "execution_count": 109,
   "metadata": {},
   "outputs": [
    {
     "name": "stdout",
     "output_type": "stream",
     "text": [
      "4548    70.0\n",
      "Name: EC50 (nM), dtype: float64\n"
     ]
    }
   ],
   "source": [
    "EC50_cleaned = df_cleaned['EC50 (nM)'].dropna()\n",
    "print(EC50_cleaned)"
   ]
  },
  {
   "cell_type": "markdown",
   "metadata": {},
   "source": [
    "Discuss: There is only 1 value of EC50, all equals to 70. It is probabybly not exploitable."
   ]
  },
  {
   "cell_type": "markdown",
   "metadata": {},
   "source": [
    "- Number of target chains:"
   ]
  },
  {
   "cell_type": "code",
   "execution_count": 110,
   "metadata": {},
   "outputs": [
    {
     "data": {
      "image/png": "[encoded data removed]",
      "text/plain": [
       "<Figure size 640x480 with 1 Axes>"
      ]
     },
     "metadata": {},
     "output_type": "display_data"
    }
   ],
   "source": [
    "Number_of_chain_cleaned=df_cleaned['Number of Protein Chains in Target (>1 implies a multichain complex)'].dropna()\n",
    "plt.title('Distribution of the Number of protein chains in CDKs proteins involved in binding')\n",
    "plt.xlabel('Number of chains')\n",
    "plt.ylabel('Number of CDK proteins')\n",
    "sns.histplot(Number_of_chain_cleaned)\n",
    "plt.show()\n"
   ]
  }
 ],
 "metadata": {
  "kernelspec": {
   "display_name": "ada",
   "language": "python",
   "name": "python3"
  },
  "language_info": {
   "codemirror_mode": {
    "name": "ipython",
    "version": 3
   },
   "file_extension": ".py",
   "mimetype": "text/x-python",
   "name": "python",
   "nbconvert_exporter": "python",
   "pygments_lexer": "ipython3",
   "version": "3.11.8"
  }
 },
 "nbformat": 4,
 "nbformat_minor": 2
}
