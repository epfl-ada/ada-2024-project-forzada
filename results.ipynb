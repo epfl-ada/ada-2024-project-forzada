{
 "cells": [
  {
   "cell_type": "code",
   "execution_count": 1,
   "metadata": {},
   "outputs": [],
   "source": [
    "import os\n",
    "import pandas as pd\n",
    "import numpy as np\n",
    "import matplotlib.pyplot as plt\n",
    "import warnings\n",
    "from scipy.stats import ttest_ind"
   ]
  },
  {
   "cell_type": "code",
   "execution_count": null,
   "metadata": {},
   "outputs": [
    {
     "name": "stderr",
     "output_type": "stream",
     "text": [
      "C:\\Users\\mathi\\AppData\\Local\\Temp\\ipykernel_16788\\2002791363.py:1: DtypeWarning: Columns (8,9,10,11,12,13,15,17,21,27,28,32,33,35,36,45,46,47,48,50,51,52,53,54,55,57,58,59,60,62,63,64,65,66,67,69,70,71,72,74,75,76,77,78,79,86,87,88,89,90,91,98,99,100,101,102,103,110,112,113,114,115,122,124,125,126,127,134,135,136,137,138,139) have mixed types. Specify dtype option on import or set low_memory=False.\n",
      "  df1 = pd.read_csv('.\\data\\data_BD.tsv', sep='\\t', on_bad_lines='skip', nrows=500000)\n"
     ]
    }
   ],
   "source": [
    "#load the 500'000 first rows of the data\n",
    "df1 = pd.read_csv('.\\data\\data_BD.tsv', sep='\\t', on_bad_lines='skip', nrows=500000)"
   ]
  },
  {
   "cell_type": "code",
   "execution_count": null,
   "metadata": {},
   "outputs": [],
   "source": [
    "#select the rows about CDK binding interactions\n",
    "df1_cleaned = df1[df1['Target Name'].str.contains('Cyclin-dependent kinase', na=False)]"
   ]
  },
  {
   "cell_type": "code",
   "execution_count": 4,
   "metadata": {},
   "outputs": [
    {
     "data": {
      "text/plain": [
       "(8749, 194)"
      ]
     },
     "execution_count": 4,
     "metadata": {},
     "output_type": "execute_result"
    }
   ],
   "source": [
    "df1_cleaned.shape"
   ]
  }
 ],
 "metadata": {
  "kernelspec": {
   "display_name": "ada",
   "language": "python",
   "name": "python3"
  },
  "language_info": {
   "codemirror_mode": {
    "name": "ipython",
    "version": 3
   },
   "file_extension": ".py",
   "mimetype": "text/x-python",
   "name": "python",
   "nbconvert_exporter": "python",
   "pygments_lexer": "ipython3",
   "version": "3.11.9"
  }
 },
 "nbformat": 4,
 "nbformat_minor": 2
}
