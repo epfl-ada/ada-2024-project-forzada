{
 "cells": [
  {
   "cell_type": "markdown",
   "metadata": {},
   "source": [
    "# CDK Binding Affinity"
   ]
  },
  {
   "cell_type": "code",
   "execution_count": 4,
   "metadata": {},
   "outputs": [],
   "source": [
    "import os\n",
    "import pandas as pd\n",
    "import numpy as np\n",
    "import matplotlib.pyplot as plt\n"
   ]
  },
  {
   "cell_type": "code",
   "execution_count": 5,
   "metadata": {},
   "outputs": [
    {
     "data": {
      "text/plain": [
       "4577"
      ]
     },
     "execution_count": 5,
     "metadata": {},
     "output_type": "execute_result"
    }
   ],
   "source": [
    "df = pd.read_csv('..\\data\\BindingDB_col_cleaned.tsv', sep='\\t') # loading of the cleaned data (CDKs selected and columns necessary for analysis selected)\n",
    "df[\"BindingDB Ligand Name\"].unique().size"
   ]
  },
  {
   "cell_type": "code",
   "execution_count": 6,
   "metadata": {},
   "outputs": [],
   "source": [
    "from sgt import SGT\n",
    "import sgt\n"
   ]
  },
  {
   "cell_type": "code",
   "execution_count": 7,
   "metadata": {},
   "outputs": [],
   "source": [
    "X = df['BindingDB Target Chain Sequence'].drop_duplicates()\n",
    "def split(word): \n",
    "    return [char for char in word]\n",
    "sequences = [split(x) for x in X]\n"
   ]
  },
  {
   "cell_type": "code",
   "execution_count": 8,
   "metadata": {},
   "outputs": [
    {
     "name": "stdout",
     "output_type": "stream",
     "text": [
      "    id                                           sequence\n",
      "0    1  [M, E, D, Y, T, K, I, E, K, I, G, E, G, T, Y, ...\n",
      "1    2  [M, E, N, F, Q, K, V, E, K, I, G, E, G, T, Y, ...\n",
      "2    3  [M, E, D, Y, V, K, I, E, K, I, G, E, G, T, Y, ...\n",
      "3    4  [M, A, T, S, R, Y, E, P, V, A, E, I, G, V, G, ...\n",
      "4    5  [M, E, H, Q, L, L, C, C, E, V, E, T, I, R, R, ...\n",
      "5    6  [M, E, H, Q, L, L, C, C, E, V, E, T, I, R, R, ...\n",
      "6    7  [A, Q, P, P, P, A, Q, P, P, A, P, P, A, S, Q, ...\n",
      "7    8  [M, G, T, V, L, S, L, S, P, S, Y, R, K, A, T, ...\n",
      "8    9  [M, Y, H, N, S, S, Q, K, R, H, W, T, F, S, S, ...\n",
      "9   10  [M, E, G, E, R, K, N, N, N, K, R, W, Y, F, T, ...\n",
      "10  11  [S, V, N, E, V, P, D, Y, H, E, D, I, H, T, Y, ...\n",
      "11  12  [M, G, D, E, K, D, S, W, K, V, K, T, L, D, E, ...\n",
      "12  13  [M, G, D, E, K, D, S, W, K, V, K, T, L, D, E, ...\n",
      "13  14  [M, D, Y, D, F, K, A, K, L, A, A, E, R, E, R, ...\n",
      "14  15  [M, A, L, D, V, K, S, R, A, K, R, Y, E, K, L, ...\n",
      "15  16  [M, D, Y, D, F, K, V, K, L, S, S, E, R, E, R, ...\n",
      "16  17  [M, A, K, Q, Y, D, S, V, E, C, P, F, C, D, E, ...\n",
      "17  18  [M, D, M, F, Q, K, V, E, K, I, G, E, G, T, Y, ...\n",
      "18  19  [M, Q, K, Y, E, K, L, E, K, I, G, E, G, T, Y, ...\n",
      "19  20  [M, D, R, M, K, K, I, K, R, Q, L, S, M, T, L, ...\n",
      "20  21  [M, K, K, F, K, R, R, L, S, L, T, L, R, G, S, ...\n",
      "21  22  [M, N, K, M, K, N, F, K, R, R, F, S, L, S, V, ...\n",
      "22  23  [M, C, D, L, I, E, P, Q, P, A, E, K, I, G, K, ...\n",
      "23  24  [M, E, K, D, G, L, C, R, A, D, Q, Q, Y, E, C, ...\n",
      "24  25  [M, P, R, E, R, R, E, R, D, A, K, E, R, D, T, ...\n",
      "25  26  [H, F, V, A, L, K, S, V, R, V, P, N, G, G, G, ...\n",
      "26  27  [M, E, N, F, Q, K, V, E, K, I, G, E, G, T, Y, ...\n",
      "27  28  [M, E, N, F, Q, K, V, E, K, I, G, E, G, T, Y, ...\n",
      "28  29  [M, E, N, F, Q, K, V, E, K, I, G, E, G, T, Y, ...\n",
      "29  30  [M, E, N, F, Q, K, V, E, K, I, G, E, G, T, Y, ...\n",
      "30  31  [M, E, N, F, Q, K, V, E, K, I, G, E, G, T, Y, ...\n",
      "31  32  [M, E, N, F, Q, K, V, E, K, I, G, E, G, T, Y, ...\n",
      "32  33  [M, E, N, F, Q, K, V, E, K, I, G, E, G, T, Y, ...\n",
      "33  34  [M, E, K, Y, E, N, L, G, L, V, G, E, G, S, Y, ...\n"
     ]
    }
   ],
   "source": [
    "sequences_df = pd.DataFrame({\n",
    "    'id': range(1, len(sequences) + 1),  # Create IDs starting from 1\n",
    "    'sequence': sequences  # Add the sequences\n",
    "})\n",
    "\n",
    "# Display the resulting DataFrame\n",
    "sequences_df['sequence'] = sequences_df['sequence'].apply(\n",
    "    lambda seq: [char.upper() for char in seq])\n",
    "print(sequences_df)\n"
   ]
  },
  {
   "cell_type": "code",
   "execution_count": 9,
   "metadata": {},
   "outputs": [
    {
     "name": "stdout",
     "output_type": "stream",
     "text": [
      "[[ 1.64696866e-02  1.89771455e-02]\n",
      " [ 2.86473367e-02  3.84303246e-02]\n",
      " [ 1.59754049e-02  1.64247833e-02]\n",
      " [ 5.81024349e-02 -2.75361185e-02]\n",
      " [-4.29247010e-02 -1.11885621e-02]\n",
      " [-4.33309905e-02 -1.02127244e-02]\n",
      " [-5.60715713e-02 -1.33134767e-01]\n",
      " [-4.61329210e-02 -5.59457794e-02]\n",
      " [-4.21981647e-02 -3.74406686e-03]\n",
      " [-3.84389682e-02  1.49133486e-03]\n",
      " [-3.46929054e-02 -7.47032441e-03]\n",
      " [-3.38521864e-02  5.06145128e-03]\n",
      " [-3.52571106e-02  5.66880917e-03]\n",
      " [-3.15684028e-02  3.17503804e-03]\n",
      " [-2.48034447e-03 -6.50378636e-03]\n",
      " [-3.00664328e-02 -3.77805997e-05]\n",
      " [-1.66397172e-02 -2.97812735e-03]\n",
      " [ 1.08314364e-02  2.47937344e-02]\n",
      " [ 1.97442296e-02 -1.16408295e-02]\n",
      " [-1.05028746e-02 -1.94431620e-04]\n",
      " [-1.84186397e-02  1.07922160e-03]\n",
      " [-1.88795805e-02  5.15884035e-03]\n",
      " [-1.82408409e-02 -4.86573198e-03]\n",
      " [ 1.52052470e-02 -8.95784678e-03]\n",
      " [-3.79419039e-02 -4.81118641e-03]\n",
      " [ 2.12190051e-01 -8.49647346e-02]\n",
      " [ 2.92592755e-02  3.48540948e-02]\n",
      " [ 2.59188069e-02  3.46301227e-02]\n",
      " [ 2.47458897e-02  3.04767277e-02]\n",
      " [ 2.87917970e-02  3.92885183e-02]\n",
      " [ 2.84932730e-02  3.90163469e-02]\n",
      " [ 2.91179136e-02  3.46487017e-02]\n",
      " [ 2.85118165e-02  3.81537606e-02]\n",
      " [-1.43663438e-02  2.85784216e-03]]\n",
      "0.4259110782594869\n"
     ]
    }
   ],
   "source": [
    "from sklearn.decomposition import PCA\n",
    "sgt = SGT(kappa = 1, lengthsensitive = False, flatten=True)\n",
    "embedding = sgt.fit_transform(corpus=sequences_df)\n",
    "embedding = embedding.drop(['id'], axis=1)\n",
    "\n",
    "pca = PCA(n_components=2)\n",
    "pca.fit(embedding)\n",
    "X = pca.transform(embedding)\n",
    "print(X)\n",
    "print(np.sum(pca.explained_variance_ratio_))"
   ]
  },
  {
   "cell_type": "code",
   "execution_count": 10,
   "metadata": {},
   "outputs": [
    {
     "name": "stderr",
     "output_type": "stream",
     "text": [
      "c:\\Users\\timon\\anaconda3\\envs\\ada2\\lib\\site-packages\\sklearn\\cluster\\_kmeans.py:1429: UserWarning: KMeans is known to have a memory leak on Windows with MKL, when there are less chunks than available threads. You can avoid it by setting the environment variable OMP_NUM_THREADS=1.\n",
      "  warnings.warn(\n"
     ]
    },
    {
     "data": {
      "text/plain": [
       "(-0.15, 0.1)"
      ]
     },
     "execution_count": 10,
     "metadata": {},
     "output_type": "execute_result"
    },
    {
     "data": {
      "image/png": "[encoded data removed]",
      "text/plain": [
       "<Figure size 700x700 with 1 Axes>"
      ]
     },
     "metadata": {},
     "output_type": "display_data"
    }
   ],
   "source": [
    "from sklearn.cluster import KMeans\n",
    "\n",
    "kmeans = KMeans(n_clusters=4, max_iter =3000)\n",
    "kmeans.fit(X)\n",
    "labels = kmeans.predict(X)\n",
    "centroids = kmeans.cluster_centers_\n",
    "fig = plt.figure(figsize=(7, 7))\n",
    "colmap = {1: 'r', 2: 'g', 3: 'b', 4:'k'}\n",
    "\n",
    "colors = list(map(lambda x: colmap[x+1], labels))\n",
    "plt.scatter(X[:,0], X[:,1], color=colors, alpha=0.5, edgecolor=colors)\n",
    "for i, point in enumerate(X):\n",
    "    plt.text(point[0], point[1], str(i), fontsize=6, ha='center')\n",
    "\n",
    "x_min, x_max = X[:, 0].min() - 1, X[:, 0].max() + 1\n",
    "y_min, y_max = X[:, 1].min() - 1, X[:, 1].max() + 1\n",
    "xx, yy = np.meshgrid(np.linspace(x_min, x_max, 5000),\n",
    "                     np.linspace(y_min, y_max, 5000))\n",
    "grid = np.c_[xx.ravel(), yy.ravel()]\n",
    "\n",
    "# Predict cluster for each grid point\n",
    "Z = kmeans.predict(grid)\n",
    "Z = Z.reshape(xx.shape)\n",
    "\n",
    "# Plot decision boundaries\n",
    "plt.contourf(xx, yy, Z, alpha=0.2, cmap='viridis')\n",
    "plt.xlim(-0.1, 0.25)\n",
    "plt.ylim(-0.15, 0.1)"
   ]
  }
 ],
 "metadata": {
  "kernelspec": {
   "display_name": "ada2",
   "language": "python",
   "name": "python3"
  },
  "language_info": {
   "codemirror_mode": {
    "name": "ipython",
    "version": 3
   },
   "file_extension": ".py",
   "mimetype": "text/x-python",
   "name": "python",
   "nbconvert_exporter": "python",
   "pygments_lexer": "ipython3",
   "version": "3.10.13"
  }
 },
 "nbformat": 4,
 "nbformat_minor": 2
}
